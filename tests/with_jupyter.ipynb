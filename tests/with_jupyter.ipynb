{
 "cells": [
  {
   "cell_type": "code",
   "execution_count": 1,
   "outputs": [],
   "source": [
    "import pandas as pd\n",
    "from\n",
    "\n",
    "data = ClearDataFiles('../file_folder/conversa.txt')\n",
    "\n",
    "df_messages = pd.DataFrame(data.messages)\n",
    "df_info_messages = pd.DataFrame(data.info_messages)"
   ],
   "metadata": {
    "collapsed": false,
    "pycharm": {
     "name": "#%%\n"
    }
   }
  },
  {
   "cell_type": "code",
   "execution_count": 2,
   "outputs": [
    {
     "data": {
      "text/plain": "                                             message                date\n0       ‎Kalil Vasconcelos Jr criou o grupo \"Coders\" 2022-03-21 17:52:00\n1   Você entrou usando o link de convite deste grupo 2022-06-26 13:06:00\n2  ‎Kalil Vasconcelos Jr mudou a descrição do grupo. 2022-07-08 08:42:00\n3                             ‎+55 51 9203-8910 saiu 2022-07-10 12:26:00\n4  ‎Kalil Vasconcelos Jr mudou a descrição do grupo. 2022-07-13 15:00:00",
      "text/html": "<div>\n<style scoped>\n    .dataframe tbody tr th:only-of-type {\n        vertical-align: middle;\n    }\n\n    .dataframe tbody tr th {\n        vertical-align: top;\n    }\n\n    .dataframe thead th {\n        text-align: right;\n    }\n</style>\n<table border=\"1\" class=\"dataframe\">\n  <thead>\n    <tr style=\"text-align: right;\">\n      <th></th>\n      <th>message</th>\n      <th>date</th>\n    </tr>\n  </thead>\n  <tbody>\n    <tr>\n      <th>0</th>\n      <td>‎Kalil Vasconcelos Jr criou o grupo \"Coders\"</td>\n      <td>2022-03-21 17:52:00</td>\n    </tr>\n    <tr>\n      <th>1</th>\n      <td>Você entrou usando o link de convite deste grupo</td>\n      <td>2022-06-26 13:06:00</td>\n    </tr>\n    <tr>\n      <th>2</th>\n      <td>‎Kalil Vasconcelos Jr mudou a descrição do grupo.</td>\n      <td>2022-07-08 08:42:00</td>\n    </tr>\n    <tr>\n      <th>3</th>\n      <td>‎+55 51 9203-8910 saiu</td>\n      <td>2022-07-10 12:26:00</td>\n    </tr>\n    <tr>\n      <th>4</th>\n      <td>‎Kalil Vasconcelos Jr mudou a descrição do grupo.</td>\n      <td>2022-07-13 15:00:00</td>\n    </tr>\n  </tbody>\n</table>\n</div>"
     },
     "execution_count": 2,
     "metadata": {},
     "output_type": "execute_result"
    }
   ],
   "source": [
    "df_info_messages.head()"
   ],
   "metadata": {
    "collapsed": false,
    "pycharm": {
     "name": "#%%\n"
    }
   }
  },
  {
   "cell_type": "code",
   "execution_count": null,
   "outputs": [],
   "source": [
    "# Filtrando mensagem por número\n",
    "df_messages[(df_messages['phone'] == \"@erickson.lds\")]"
   ],
   "metadata": {
    "collapsed": false,
    "pycharm": {
     "name": "#%%\n"
    }
   }
  },
  {
   "cell_type": "code",
   "execution_count": null,
   "outputs": [],
   "source": [
    "# Filtrando quantidade de mensagens por número\n",
    "df_messages['phone'].value_counts()"
   ],
   "metadata": {
    "collapsed": false,
    "pycharm": {
     "name": "#%%\n"
    }
   }
  },
  {
   "cell_type": "code",
   "execution_count": null,
   "outputs": [],
   "source": [
    "# Primeira ocorrencia de mensagem\n",
    "min(df_messages.date.values)"
   ],
   "metadata": {
    "collapsed": false,
    "pycharm": {
     "name": "#%%\n"
    }
   }
  },
  {
   "cell_type": "code",
   "execution_count": 44,
   "outputs": [
    {
     "data": {
      "text/plain": "numpy.datetime64('2022-08-28T17:47:00.000000000')"
     },
     "execution_count": 44,
     "metadata": {},
     "output_type": "execute_result"
    }
   ],
   "source": [
    "# Ultima ocorrencia de mensagem\n",
    "max(df_messages.date.values)"
   ],
   "metadata": {
    "collapsed": false,
    "pycharm": {
     "name": "#%%\n"
    }
   }
  },
  {
   "cell_type": "code",
   "execution_count": null,
   "outputs": [],
   "source": [],
   "metadata": {
    "collapsed": false,
    "pycharm": {
     "name": "#%%\n"
    }
   }
  }
 ],
 "metadata": {
  "kernelspec": {
   "display_name": "Python 3",
   "language": "python",
   "name": "python3"
  },
  "language_info": {
   "codemirror_mode": {
    "name": "ipython",
    "version": 2
   },
   "file_extension": ".py",
   "mimetype": "text/x-python",
   "name": "python",
   "nbconvert_exporter": "python",
   "pygments_lexer": "ipython2",
   "version": "2.7.6"
  }
 },
 "nbformat": 4,
 "nbformat_minor": 0
}